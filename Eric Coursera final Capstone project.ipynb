{
    "cells": [
        {
            "cell_type": "markdown",
            "metadata": {},
            "source": "#### Open up a cafe in UK Manchester City"
        },
        {
            "cell_type": "code",
            "execution_count": 42,
            "metadata": {},
            "outputs": [],
            "source": "### Let's setup the environment by importing required libraries."
        },
        {
            "cell_type": "code",
            "execution_count": 47,
            "metadata": {
                "jupyter": {
                    "outputs_hidden": false
                }
            },
            "outputs": [
                {
                    "name": "stdout",
                    "output_type": "stream",
                    "text": "Collecting package metadata (current_repodata.json): done\nSolving environment: done\n\n# All requested packages already installed.\n\n"
                },
                {
                    "ename": "ModuleNotFoundError",
                    "evalue": "No module named 'folium'",
                    "output_type": "error",
                    "traceback": [
                        "\u001b[0;31m---------------------------------------------------------------------------\u001b[0m",
                        "\u001b[0;31mModuleNotFoundError\u001b[0m                       Traceback (most recent call last)",
                        "\u001b[0;32m<ipython-input-47-d117405a6e75>\u001b[0m in \u001b[0;36m<module>\u001b[0;34m\u001b[0m\n\u001b[1;32m     15\u001b[0m \u001b[0;34m\u001b[0m\u001b[0m\n\u001b[1;32m     16\u001b[0m \u001b[0;31m#!conda install -c conda-forge folium=0.5.0 --yes # uncomment this line if you haven't completed the Foursquare API lab\u001b[0m\u001b[0;34m\u001b[0m\u001b[0;34m\u001b[0m\u001b[0;34m\u001b[0m\u001b[0m\n\u001b[0;32m---> 17\u001b[0;31m \u001b[0;32mimport\u001b[0m \u001b[0mfolium\u001b[0m \u001b[0;31m# map rendering library\u001b[0m\u001b[0;34m\u001b[0m\u001b[0;34m\u001b[0m\u001b[0m\n\u001b[0m\u001b[1;32m     18\u001b[0m \u001b[0;34m\u001b[0m\u001b[0m\n\u001b[1;32m     19\u001b[0m \u001b[0;32mfrom\u001b[0m \u001b[0mbs4\u001b[0m \u001b[0;32mimport\u001b[0m \u001b[0mBeautifulSoup\u001b[0m\u001b[0;34m\u001b[0m\u001b[0;34m\u001b[0m\u001b[0m\n",
                        "\u001b[0;31mModuleNotFoundError\u001b[0m: No module named 'folium'"
                    ]
                }
            ],
            "source": "import pandas as pd # library for data analsysis\npd.set_option('display.max_columns', None)\npd.set_option('display.max_rows', None)\n\nimport json # library to handle JSON files\n\n!conda install -c conda-forge geopy --yes # uncomment this line if you haven't completed the Foursquare API lab\nfrom geopy.geocoders import Nominatim # convert an address into latitude and longitude values\n\nimport requests # library to handle requests\nfrom pandas.io.json import json_normalize # tranform JSON file into a pandas dataframe\n\n# import k-means from clustering stage\nfrom sklearn.cluster import KMeans\n\n#!conda install -c conda-forge folium=0.5.0 --yes # uncomment this line if you haven't completed the Foursquare API lab\nimport folium # map rendering library\n\nfrom bs4 import BeautifulSoup\nimport csv\n\n!pip install geocoder\nimport geocoder # to get longitude and latitude\n\n!conda install -c conda-forge folium=0.5.0 --yes\n! pip install folium\nimport folium # Map plotting library\nimport numpy as np\nfrom pandas.io.json import json_normalize # Tranform JSON file into a pandas dataframe\n\n# Matplotlib and associated plotting modules\nimport matplotlib.cm as cm\nimport matplotlib.colors as colors\n\n# Import k-means from clustering stage\nfrom sklearn.cluster import KMeans\nprint('All libraries and modules installed')"
        },
        {
            "cell_type": "markdown",
            "metadata": {},
            "source": "<a id='item1'></a>"
        },
        {
            "cell_type": "code",
            "execution_count": null,
            "metadata": {},
            "outputs": [],
            "source": "source = requests.get('https://en.wikipedia.org/wiki/Category:Areas_of_Manchester').text \nsoup = BeautifulSoup(source, 'lxml')"
        },
        {
            "cell_type": "code",
            "execution_count": null,
            "metadata": {},
            "outputs": [],
            "source": "csv_file = open('manchester.csv', 'w')\ncsv_writer = csv.writer(csv_file)\ncsv_writer.writerow(['Neighbourhood'])"
        },
        {
            "cell_type": "code",
            "execution_count": null,
            "metadata": {},
            "outputs": [],
            "source": "mwcg = soup.find_all(class_ = \"mw-category-group\")\n\nlength = len(mwcg) # Gets the length of number of `mw-category-groups` present\n\nfor i in range(1, length):  # Gets all the neighbourhoods\n    lists = mwcg [i].find_all('a')\n    for list in lists:\n        nbd = list.get('title') # Gets the title of the neighbourhood\n        csv_writer.writerow([nbd]) # Writes the name of the neighbourhood in the csv file"
        },
        {
            "cell_type": "code",
            "execution_count": null,
            "metadata": {},
            "outputs": [],
            "source": "csv_file.close()\n"
        },
        {
            "cell_type": "code",
            "execution_count": null,
            "metadata": {},
            "outputs": [],
            "source": "manchester_raw = pd.read_csv('manchester.csv')"
        },
        {
            "cell_type": "code",
            "execution_count": null,
            "metadata": {},
            "outputs": [],
            "source": "manchester_raw.shape"
        },
        {
            "cell_type": "code",
            "execution_count": null,
            "metadata": {},
            "outputs": [],
            "source": "manchester_raw"
        },
        {
            "cell_type": "code",
            "execution_count": null,
            "metadata": {},
            "outputs": [],
            "source": "# Initialize varialbes\nlat = []\nlng = []\nlat_lng_coords = None\n\n# Get postcodes from neighbourhoods table\nneighbourhoods = manchester_raw['Neighbourhood']\n\n# Store latitude and longitude values in lat and lng\nfor nh in neighbourhoods:\n    g = geocoder.arcgis('{}, Manchester, UK'.format(nh))\n    lat_lng_coords = g.latlng\n    lat.append(lat_lng_coords[0])\n    lng.append(lat_lng_coords[1])"
        },
        {
            "cell_type": "code",
            "execution_count": null,
            "metadata": {},
            "outputs": [],
            "source": "man_data = manchester_raw\nman_data['Latitude'] = lat\nman_data['Longitude'] = lng"
        },
        {
            "cell_type": "code",
            "execution_count": 26,
            "metadata": {},
            "outputs": [
                {
                    "ename": "NameError",
                    "evalue": "name 'man_data' is not defined",
                    "output_type": "error",
                    "traceback": [
                        "\u001b[0;31m---------------------------------------------------------------------------\u001b[0m",
                        "\u001b[0;31mNameError\u001b[0m                                 Traceback (most recent call last)",
                        "\u001b[0;32m<ipython-input-26-58b9acc3633e>\u001b[0m in \u001b[0;36m<module>\u001b[0;34m\u001b[0m\n\u001b[0;32m----> 1\u001b[0;31m \u001b[0mman_data\u001b[0m\u001b[0;34m.\u001b[0m\u001b[0mhead\u001b[0m\u001b[0;34m(\u001b[0m\u001b[0;34m)\u001b[0m\u001b[0;34m\u001b[0m\u001b[0;34m\u001b[0m\u001b[0m\n\u001b[0m",
                        "\u001b[0;31mNameError\u001b[0m: name 'man_data' is not defined"
                    ]
                }
            ],
            "source": "man_data.head()"
        },
        {
            "cell_type": "markdown",
            "metadata": {},
            "source": "### Let's setup FourSquare credentials."
        },
        {
            "cell_type": "code",
            "execution_count": null,
            "metadata": {},
            "outputs": [],
            "source": "CLIENT_ID = 'WXY1ZKO0DIRWTH3QTCKKS2ISR0YVQWQEYKTCDCEQAQ3AEBKD' # your Foursquare ID\nCLIENT_SECRET = 'VI2A1VSNTNXLHPRIPEXTQT23DX5USFXZNC4R2U2JKRNT2HJ4' # your Foursquare Secret\nVERSION = '20180605' # Foursquare API version\n\nprint('Your credentails:')\nprint('CLIENT_ID: ' + CLIENT_ID)\nprint('CLIENT_SECRET:' + CLIENT_SECRET)"
        },
        {
            "cell_type": "markdown",
            "metadata": {},
            "source": "### Now we will get Latitude and Longitude of Manchester."
        },
        {
            "cell_type": "code",
            "execution_count": null,
            "metadata": {},
            "outputs": [],
            "source": "from geopy.geocoders import Nominatim\n\naddress = 'Manchester, UK'\n\ngeolocator = Nominatim(user_agent=\"ny_explorer\")\nlocation = geolocator.geocode(address)\nlatitude = location.latitude\nlongitude = location.longitude\nprint('The geograpical coordinate of Manchester are {}, {}.'.format(latitude, longitude))"
        },
        {
            "cell_type": "markdown",
            "metadata": {},
            "source": "### Let's plot map of Manchester using latitude and longitude values."
        },
        {
            "cell_type": "code",
            "execution_count": null,
            "metadata": {},
            "outputs": [],
            "source": "man_map = folium.Map(location=[latitude, longitude], zoom_start=11)\n\n# add markers to map\nfor lat, lng, label in zip(man_data['Latitude'], man_data['Longitude'], man_data['Neighbourhood']):\n    label = folium.Popup(label, parse_html=True)\n    folium.CircleMarker(\n        [lat, lng],\n        radius=5,\n        popup=label,\n        color='blue',\n        fill=True,\n        fill_color='#3186cc',\n        fill_opacity=0.7,\n        parse_html=False).add_to(man_map)  \n    \nman_map"
        },
        {
            "cell_type": "markdown",
            "metadata": {},
            "source": "### In the following call we will create a function which will extract the category from the FourSquare vanues. Later we will apply FourSquare API in all the neighbourhoods on Manchester."
        },
        {
            "cell_type": "code",
            "execution_count": null,
            "metadata": {},
            "outputs": [],
            "source": "# Gets the name of the category\n\ndef get_category_type(row):\n    categories_list = row['Category']  \n    \n    if len(categories_list) == 0:\n        return None\n    else:\n        return categories_list[0]['name']"
        },
        {
            "cell_type": "code",
            "execution_count": null,
            "metadata": {},
            "outputs": [],
            "source": "explore_df_list = []\n\nfor i, nhood_name in enumerate(man_data['Neighbourhood']):  \n    \n    try :\n        #Get neighbourhood data\n        nhood_name = man_data.loc[i, 'Neighbourhood']\n        nhood_lat = man_data.loc[i, 'Latitude']\n        nhood_lng = man_data.loc[i, 'Longitude']\n\n        radius = 1000 \n        LIMIT = 30 \n\n        url = 'https://api.foursquare.com/v2/venues/explore?client_id={} \\\n        &client_secret={}&ll={},{}&v={}&radius={}&limit={}'\\\n        .format(CLIENT_ID, CLIENT_SECRET, nhood_lat, nhood_lng, VERSION, radius, LIMIT)\n\n        results = json.loads(requests.get(url).text)\n        results = results['response']['groups'][0]['items']\n\n        nearby = json_normalize(results) # Flatten JSON\n\n        # Filter the columns\n        filtered_columns = ['venue.name', 'venue.categories', 'venue.location.lat', 'venue.location.lng']\n        nearby = nearby.loc[:, filtered_columns]\n\n        # Rename the columns\n        columns = ['Name', 'Category', 'Latitude', 'Longitude']\n        nearby.columns = columns\n\n        # Get the categories\n        nearby['Category'] = nearby.apply(get_category_type, axis=1)    \n\n        # Get the required data\n        for i, name in enumerate(nearby['Name']):\n            s_list = nearby.loc[i, :].values.tolist()  # Converts the numpy array to a python list\n            f_list = [nhood_name, nhood_lat, nhood_lng] + s_list\n            explore_df_list.append(f_list)\n    \n    except Exception as e:\n        pass"
        },
        {
            "cell_type": "markdown",
            "metadata": {},
            "source": "### Now we will create a dataframe for performing clustering."
        },
        {
            "cell_type": "code",
            "execution_count": null,
            "metadata": {},
            "outputs": [],
            "source": "explore_man = pd.DataFrame([item for item in explore_df_list])\nexplore_man.columns = ['Neighbourhood', 'Neighbourhood Latitude', 'Neighbourhood Longitude', 'Venue Name', 'Venue Category', 'Venue Latitude', 'Venue Longitude']\nexplore_man.head()"
        },
        {
            "cell_type": "markdown",
            "metadata": {},
            "source": "### Now we will perform one-hot encoding to analyze neighbourhoods of Manchester."
        },
        {
            "cell_type": "code",
            "execution_count": null,
            "metadata": {},
            "outputs": [],
            "source": "man_1hot = pd.get_dummies(explore_man[['Venue Category']], prefix=\"\", prefix_sep=\"\")\n\n\n# Add neighbourhood column back to dataframe\nman_1hot['Neighbourhood'] = explore_man['Neighbourhood'] \n\n\n# Move neighbourhood column to the first column\nfixed_columns = [man_1hot.columns[-1]] + man_1hot.columns[:-1].values.tolist()\nman_1hot = man_1hot[fixed_columns]\n\nman_1hot.head()"
        },
        {
            "cell_type": "markdown",
            "metadata": {},
            "source": "### In the following step we will agregate the venues by neighbourhoods and later we will create a function to return most common venues."
        },
        {
            "cell_type": "code",
            "execution_count": null,
            "metadata": {},
            "outputs": [],
            "source": "man_grouped = man_1hot.groupby('Neighbourhood').mean().reset_index()\nman_grouped.head()"
        },
        {
            "cell_type": "code",
            "execution_count": null,
            "metadata": {},
            "outputs": [],
            "source": "def top_common_venues(row, top_venues):\n    row_categories = row.iloc[1:]\n    row_categories_sorted = row_categories.sort_values(ascending=False)\n    \n    return row_categories_sorted.index.values[0:top_venues]"
        },
        {
            "cell_type": "markdown",
            "metadata": {},
            "source": "### Now we will create a new dataframe to get the top 10 venues.\n"
        },
        {
            "cell_type": "code",
            "execution_count": null,
            "metadata": {},
            "outputs": [],
            "source": "top_venues = 10\nindicators = ['st', 'nd', 'rd']\n\n# Create columns according to number of top venues\ncolumns = ['Neighbourhood']\nfor ind in np.arange(top_venues):\n    try:\n        columns.append('{}{} Most Common Venue'.format(ind+1, indicators[ind]))\n    except:\n        columns.append('{}th Most Common Venue'.format(ind+1))\n\n# Create a new dataframe\nneighbourhoods_venues_sorted = pd.DataFrame(columns=columns)\nneighbourhoods_venues_sorted['Neighbourhood'] = man_grouped['Neighbourhood']\n\nfor ind in np.arange(man_grouped.shape[0]):\n    neighbourhoods_venues_sorted.iloc[ind, 1:] = top_common_venues(man_grouped.iloc[ind, :], top_venues)\n\nneighbourhoods_venues_sorted.head()"
        },
        {
            "cell_type": "markdown",
            "metadata": {},
            "source": "### Now we will apply K-means clustering on the dataframe.\n"
        },
        {
            "cell_type": "code",
            "execution_count": null,
            "metadata": {},
            "outputs": [],
            "source": "man_grouped_clustering = man_grouped.drop('Neighbourhood', 1)"
        },
        {
            "cell_type": "code",
            "execution_count": null,
            "metadata": {},
            "outputs": [],
            "source": "import matplotlib.pyplot as plt\n%matplotlib inline\n\ndef plot(x, y, xlabel, ylabel):\n    plt.figure(figsize=(20,10))\n    plt.plot(np.arange(2, x), y, 'o-')\n    plt.xlabel(xlabel)\n    plt.ylabel(ylabel)\n    plt.xticks(np.arange(2, x))\n    plt.show()"
        },
        {
            "cell_type": "code",
            "execution_count": null,
            "metadata": {},
            "outputs": [],
            "source": "max_range = 15 #Max range 15 (number of clusters)\n\nfrom sklearn.metrics import silhouette_samples, silhouette_score\n\n\nindices = []\nscores = []\n\nfor man_clusters in range(2, max_range) :\n    \n    # Run k-means clustering\n    man_gc = man_grouped_clustering\n    kmeans = KMeans(n_clusters = man_clusters, init = 'k-means++', random_state = 0).fit_predict(man_gc)\n    \n    # Gets the score for the clustering operation performed\n    score = silhouette_score(man_gc, kmeans)\n    \n    # Appending the index and score to the respective lists\n    indices.append(man_clusters)\n    scores.append(score)"
        },
        {
            "cell_type": "code",
            "execution_count": null,
            "metadata": {},
            "outputs": [],
            "source": "plot(max_range, scores, \"No. of clusters\", \"Silhouette Score\")"
        },
        {
            "cell_type": "markdown",
            "metadata": {},
            "source": "### From the graph the optimal number is found to be 8 using the Elbow Method.\n"
        },
        {
            "cell_type": "code",
            "execution_count": null,
            "metadata": {},
            "outputs": [],
            "source": "opt_value = 8"
        },
        {
            "cell_type": "markdown",
            "metadata": {},
            "source": "### Now that we have calculated out optimum value of clusters, we can proceed with K-Means clustering."
        },
        {
            "cell_type": "code",
            "execution_count": null,
            "metadata": {},
            "outputs": [],
            "source": "man_clusters = opt_value\n\n# Run k-means clustering\nman_gc = man_grouped_clustering\nkmeans = KMeans(n_clusters = man_clusters, init = 'k-means++', random_state = 0).fit(man_gc)"
        },
        {
            "cell_type": "code",
            "execution_count": null,
            "metadata": {},
            "outputs": [],
            "source": "# Add clustering labels\nneighbourhoods_venues_sorted.insert(0, 'Cluster Labels', kmeans.labels_)"
        },
        {
            "cell_type": "markdown",
            "metadata": {},
            "source": "### Now we will crate a final version of dataframe containing all the necessary data.\n"
        },
        {
            "cell_type": "code",
            "execution_count": 27,
            "metadata": {},
            "outputs": [
                {
                    "ename": "NameError",
                    "evalue": "name 'man_data' is not defined",
                    "output_type": "error",
                    "traceback": [
                        "\u001b[0;31m---------------------------------------------------------------------------\u001b[0m",
                        "\u001b[0;31mNameError\u001b[0m                                 Traceback (most recent call last)",
                        "\u001b[0;32m<ipython-input-27-4a764506c6df>\u001b[0m in \u001b[0;36m<module>\u001b[0;34m\u001b[0m\n\u001b[0;32m----> 1\u001b[0;31m \u001b[0mman_final\u001b[0m \u001b[0;34m=\u001b[0m \u001b[0mman_data\u001b[0m\u001b[0;34m\u001b[0m\u001b[0;34m\u001b[0m\u001b[0m\n\u001b[0m\u001b[1;32m      2\u001b[0m \u001b[0mman_final\u001b[0m \u001b[0;34m=\u001b[0m \u001b[0mman_final\u001b[0m\u001b[0;34m.\u001b[0m\u001b[0mjoin\u001b[0m\u001b[0;34m(\u001b[0m\u001b[0mneighbourhoods_venues_sorted\u001b[0m\u001b[0;34m.\u001b[0m\u001b[0mset_index\u001b[0m\u001b[0;34m(\u001b[0m\u001b[0;34m'Neighbourhood'\u001b[0m\u001b[0;34m)\u001b[0m\u001b[0;34m,\u001b[0m \u001b[0mon\u001b[0m\u001b[0;34m=\u001b[0m\u001b[0;34m'Neighbourhood'\u001b[0m\u001b[0;34m)\u001b[0m\u001b[0;34m\u001b[0m\u001b[0;34m\u001b[0m\u001b[0m\n\u001b[1;32m      3\u001b[0m \u001b[0mman_final\u001b[0m\u001b[0;34m.\u001b[0m\u001b[0mdropna\u001b[0m\u001b[0;34m(\u001b[0m\u001b[0minplace\u001b[0m \u001b[0;34m=\u001b[0m \u001b[0;32mTrue\u001b[0m\u001b[0;34m)\u001b[0m\u001b[0;34m\u001b[0m\u001b[0;34m\u001b[0m\u001b[0m\n\u001b[1;32m      4\u001b[0m \u001b[0mman_final\u001b[0m\u001b[0;34m[\u001b[0m\u001b[0;34m'Cluster Labels'\u001b[0m\u001b[0;34m]\u001b[0m \u001b[0;34m=\u001b[0m \u001b[0mman_final\u001b[0m\u001b[0;34m[\u001b[0m\u001b[0;34m'Cluster Labels'\u001b[0m\u001b[0;34m]\u001b[0m\u001b[0;34m.\u001b[0m\u001b[0mastype\u001b[0m\u001b[0;34m(\u001b[0m\u001b[0mint\u001b[0m\u001b[0;34m)\u001b[0m\u001b[0;34m\u001b[0m\u001b[0;34m\u001b[0m\u001b[0m\n\u001b[1;32m      5\u001b[0m \u001b[0mman_final\u001b[0m\u001b[0;34m.\u001b[0m\u001b[0mhead\u001b[0m\u001b[0;34m(\u001b[0m\u001b[0;34m)\u001b[0m\u001b[0;34m\u001b[0m\u001b[0;34m\u001b[0m\u001b[0m\n",
                        "\u001b[0;31mNameError\u001b[0m: name 'man_data' is not defined"
                    ]
                }
            ],
            "source": "man_final = man_data\nman_final = man_final.join(neighbourhoods_venues_sorted.set_index('Neighbourhood'), on='Neighbourhood')\nman_final.dropna(inplace = True)\nman_final['Cluster Labels'] = man_final['Cluster Labels'].astype(int)\nman_final.head()"
        },
        {
            "cell_type": "markdown",
            "metadata": {},
            "source": "### In the next step we will visualize the clusters using Folium."
        },
        {
            "cell_type": "code",
            "execution_count": null,
            "metadata": {},
            "outputs": [],
            "source": "map_clusters = folium.Map(location=[latitude, longitude], zoom_start=11)\n\n# Setup color scheme for different clusters\nx = np.arange(man_clusters)\nys = [i + x + (i*x)**2 for i in range(man_clusters)]\ncolors_array = cm.rainbow(np.linspace(0, 1, len(ys)))\nrainbow = [colors.rgb2hex(i) for i in colors_array]\n\nmarkers_colors = []\nfor lat, lon, poi, cluster in zip(man_final['Latitude'], man_final['Longitude'], man_final['Neighbourhood'], \n                                  man_final['Cluster Labels']):\n    label = folium.Popup(str(poi) + ' (Cluster ' + str(cluster + 1) + ')', parse_html=True)\n    map_clusters.add_child(\n        folium.features.CircleMarker(\n        [lat, lon],\n        radius=5,\n        popup=label,\n        color=rainbow[cluster-1],\n        fill=True,\n        fill_color=rainbow[cluster-1],\n        fill_opacity=0.7))\n       \nmap_clusters"
        },
        {
            "cell_type": "markdown",
            "metadata": {},
            "source": "### Now lets have a look at all four clusters."
        },
        {
            "cell_type": "code",
            "execution_count": null,
            "metadata": {},
            "outputs": [],
            "source": "val = 1\nman_final.loc[man_final['Cluster Labels'] == (val - 1), man_final.columns[[0] + np.arange(4, man_final.shape[1]).tolist()]]"
        },
        {
            "cell_type": "code",
            "execution_count": null,
            "metadata": {},
            "outputs": [],
            "source": "val = 2\nman_final.loc[man_final['Cluster Labels'] == (val - 1), man_final.columns[[0] + np.arange(4, man_final.shape[1]).tolist()]]"
        },
        {
            "cell_type": "code",
            "execution_count": null,
            "metadata": {},
            "outputs": [],
            "source": "val = 3\nman_final.loc[man_final['Cluster Labels'] == (val - 1), man_final.columns[[0] + np.arange(4, man_final.shape[1]).tolist()]]"
        },
        {
            "cell_type": "code",
            "execution_count": null,
            "metadata": {
                "scrolled": true
            },
            "outputs": [],
            "source": "val = 4\nman_final.loc[man_final['Cluster Labels'] == (val - 1), man_final.columns[[0] + np.arange(4, man_final.shape[1]).tolist()]]"
        },
        {
            "cell_type": "code",
            "execution_count": null,
            "metadata": {},
            "outputs": [],
            "source": "val = 5\nman_final.loc[man_final['Cluster Labels'] == (val - 1), man_final.columns[[0] + np.arange(4, man_final.shape[1]).tolist()]]"
        },
        {
            "cell_type": "code",
            "execution_count": null,
            "metadata": {},
            "outputs": [],
            "source": "val = 6\nman_final.loc[man_final['Cluster Labels'] == (val - 1), man_final.columns[[0] + np.arange(4, man_final.shape[1]).tolist()]]"
        },
        {
            "cell_type": "code",
            "execution_count": null,
            "metadata": {},
            "outputs": [],
            "source": "val = 7\nman_final.loc[man_final['Cluster Labels'] == (val - 1), man_final.columns[[0] + np.arange(4, man_final.shape[1]).tolist()]]"
        },
        {
            "cell_type": "code",
            "execution_count": null,
            "metadata": {},
            "outputs": [],
            "source": "val = 8\nman_final.loc[man_final['Cluster Labels'] == (val - 1), man_final.columns[[0] + np.arange(4, man_final.shape[1]).tolist()]]"
        },
        {
            "cell_type": "markdown",
            "metadata": {},
            "source": "### After studying all four clusters, it is recommended to the client that neighbourhoods such as Barlow Moor, Brookelands and Hyde Newton(Ward) that fall in cluster 4 look like good locations for starting a restaurant. The client can go ahead and make a decision depending on othr factors like availability and legal requirements that are out of scope of this project."
        },
        {
            "cell_type": "code",
            "execution_count": null,
            "metadata": {},
            "outputs": [],
            "source": ""
        }
    ],
    "metadata": {
        "kernelspec": {
            "display_name": "Python 3.8",
            "language": "python",
            "name": "python3"
        },
        "language_info": {
            "codemirror_mode": {
                "name": "ipython",
                "version": 3
            },
            "file_extension": ".py",
            "mimetype": "text/x-python",
            "name": "python",
            "nbconvert_exporter": "python",
            "pygments_lexer": "ipython3",
            "version": "3.8.10"
        },
        "widgets": {
            "state": {},
            "version": "1.1.2"
        }
    },
    "nbformat": 4,
    "nbformat_minor": 4
}